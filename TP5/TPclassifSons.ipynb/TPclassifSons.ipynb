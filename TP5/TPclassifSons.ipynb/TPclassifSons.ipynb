{
 "cells": [
  {
   "cell_type": "markdown",
   "metadata": {},
   "source": [
    "# Polytech SI3 - Données numériques: classification de sons\n",
    "Diane Lingrand\n",
    "2022-2023\n"
   ]
  },
  {
   "cell_type": "code",
   "execution_count": null,
   "metadata": {
    "ExecuteTime": {
     "end_time": "2023-03-23T22:16:07.485692Z",
     "start_time": "2023-03-23T22:16:03.287538Z"
    }
   },
   "outputs": [],
   "source": [
    "#chargement des librairies\n",
    "import matplotlib.pyplot as plt\n",
    "import numpy as np\n",
    "import librosa\n",
    "import librosa.display\n",
    "import IPython.display as ipd"
   ]
  },
  {
   "cell_type": "code",
   "execution_count": null,
   "metadata": {
    "ExecuteTime": {
     "end_time": "2023-03-23T22:16:07.494870Z",
     "start_time": "2023-03-23T22:16:07.491649Z"
    }
   },
   "outputs": [],
   "source": [
    "import glob"
   ]
  },
  {
   "cell_type": "code",
   "execution_count": null,
   "metadata": {
    "ExecuteTime": {
     "end_time": "2023-03-23T22:38:42.066807Z",
     "start_time": "2023-03-23T22:38:42.039520Z"
    }
   },
   "outputs": [],
   "source": [
    "basedir=\"C:\\\\Users\\\\Michel K\\\\Desktop\\\\SI3\\\\Données numériques\\\\sounds\\\\\"\n",
    "# à adapter \n",
    "#attention, sous windows, il faut changer en \"C:\\\\Users\\\\monNom\\\\monCoursPrefere\\\\\"\n",
    "classes = [\"cat\",\"dog\",\"bird\"]\n",
    "nbClasses = len(classes)\n",
    "\n",
    "for cl in classes:\n",
    "    listSons = glob.glob(basedir+cl+\"\\\\*.wav\")\n",
    "    print(cl,len(listSons))"
   ]
  },
  {
   "cell_type": "markdown",
   "metadata": {},
   "source": [
    "## algorithme kNN"
   ]
  },
  {
   "cell_type": "code",
   "execution_count": null,
   "metadata": {
    "ExecuteTime": {
     "end_time": "2023-03-23T21:52:01.607063Z",
     "start_time": "2023-03-23T21:52:01.600447Z"
    }
   },
   "outputs": [],
   "source": [
    "#knn algo\n",
    "def voteKnn(xtrain, ytrain, nKnn, newData):\n",
    "    d = np.sqrt(np.sum((xtrain - newData)**2, axis=1))\n",
    "    r = np.argsort(d)\n",
    "    # nKNN smallest distances indices\n",
    "    nei1 = r[0:nKnn]\n",
    "\n",
    "    # nKNN closest data\n",
    "    Xn1 = []\n",
    "    yn1 = []\n",
    "    for j in nei1:\n",
    "        Xn1.append(xtrain[j])\n",
    "        yn1.append(ytrain[j])\n",
    "\n",
    "    cl, co = np.unique(yn1, return_counts=True)\n",
    "    nbOfMC = np.count_nonzero(co == np.max(co))  # Permet de récupérer le nombre de classe qui ont le nombre d'occurrence max du tableau\n",
    "    if nbOfMC > 1:\n",
    "        classe1 = voteKnn(xtrain, ytrain, nKnn - 1, newData)\n",
    "    else:\n",
    "        maxOccIndex1 = np.argmax(co)  # renvoie l'indice de l'occurrence la plus élevée\n",
    "        classe1 = cl[\n",
    "            maxOccIndex1]  # on récupère la classe correspondant à cette occurrence la plus élevée, autrement dit on récupère la classe ayant le nombre d'occurrence le plus élevé, grâce à leur indice identique (dans les tableaux classes et counts, une classe à un indice précis va trouver son occurrence au même indice dans le tableau counts)\n",
    "    return classe1"
   ]
  },
  {
   "cell_type": "markdown",
   "metadata": {},
   "source": [
    "## Représentation des sons par 1 MFCC"
   ]
  },
  {
   "cell_type": "code",
   "execution_count": null,
   "metadata": {
    "ExecuteTime": {
     "end_time": "2023-03-23T21:37:41.156053Z",
     "start_time": "2023-03-23T21:37:07.989109Z"
    }
   },
   "outputs": [],
   "source": [
    "# loading train dataset\n",
    "nb=200 # for each class\n",
    "i = 0\n",
    "clNumber = 0\n",
    "yTrain = []\n",
    "Xtrain = np.empty(shape=(nb*nbClasses, 13), dtype=float)\n",
    "for cl in classes:\n",
    "    listSons = glob.glob(basedir+cl+\"/*.wav\")\n",
    "    for s in listSons[:nb]:\n",
    "        (sig,rate) = librosa.load(s)\n",
    "        mfcc_feat = librosa.feature.mfcc(y=sig,sr=rate,n_mfcc=13, hop_length=len(sig)+1)\n",
    "        Xtrain[i] = mfcc_feat.reshape(13)\n",
    "        i += 1\n",
    "    yTrain += [clNumber]*nb\n",
    "    clNumber += 1\n",
    "\n",
    "yTrain = np.array(yTrain)"
   ]
  },
  {
   "cell_type": "code",
   "execution_count": null,
   "metadata": {
    "ExecuteTime": {
     "end_time": "2023-03-23T21:38:16.792811Z",
     "start_time": "2023-03-23T21:37:41.217435Z"
    }
   },
   "outputs": [],
   "source": [
    "## loading test dataset\n",
    "i = 0\n",
    "clNumber = 0\n",
    "yTest = []\n",
    "Xtest = np.empty(shape=(nb*nbClasses, 13), dtype=float)\n",
    "for cl in classes:\n",
    "    listSons = glob.glob(basedir+cl+\"/*.wav\")\n",
    "    for s in listSons[-nb:]:\n",
    "    #print(\"###\",s,\"###\")\n",
    "        (sig,rate) = librosa.load(s)\n",
    "        mfcc_feat = librosa.feature.mfcc(y=sig,sr=rate,n_mfcc=13, hop_length=len(sig)+1)\n",
    "        Xtest[i] = mfcc_feat.reshape(13)\n",
    "        i += 1\n",
    "    yTest += [clNumber]*nb\n",
    "    clNumber += 1\n",
    "\n",
    "yTest = np.array(yTest)"
   ]
  },
  {
   "cell_type": "markdown",
   "metadata": {},
   "source": [
    "## Représentation des sons par la moyenne des MFCCs (longueur standard)"
   ]
  },
  {
   "cell_type": "code",
   "execution_count": null,
   "metadata": {
    "ExecuteTime": {
     "end_time": "2023-03-23T21:37:41.156053Z",
     "start_time": "2023-03-23T21:37:07.989109Z"
    }
   },
   "outputs": [],
   "source": [
    "# loading train dataset\n",
    "nb=200 # for each class\n",
    "i = 0\n",
    "clNumber = 0\n",
    "yTrain = []\n",
    "Xtrain = np.empty(shape=(nb*nbClasses, 13), dtype=float)\n",
    "for cl in classes:\n",
    "    listSons = glob.glob(basedir+cl+\"/*.wav\")\n",
    "    for s in listSons[:nb]:\n",
    "        (sig,rate) = librosa.load(s)\n",
    "        mfcc_feat = librosa.feature.mfcc(y=sig,sr=rate,n_mfcc=13)\n",
    "        Xtrain[i] = np.mean(mfcc_feat, axis=1)\n",
    "        i += 1\n",
    "    yTrain += [clNumber]*nb\n",
    "    clNumber += 1\n",
    "\n",
    "yTrain = np.array(yTrain)"
   ]
  },
  {
   "cell_type": "code",
   "execution_count": null,
   "metadata": {
    "ExecuteTime": {
     "end_time": "2023-03-23T21:38:16.792811Z",
     "start_time": "2023-03-23T21:37:41.217435Z"
    }
   },
   "outputs": [],
   "source": [
    "## loading test dataset\n",
    "i = 0\n",
    "clNumber = 0\n",
    "yTest = []\n",
    "Xtest = np.empty(shape=(nb*nbClasses, 13), dtype=float)\n",
    "for cl in classes:\n",
    "    listSons = glob.glob(basedir+cl+\"/*.wav\")\n",
    "    for s in listSons[-nb:]:\n",
    "    #print(\"###\",s,\"###\")\n",
    "        (sig,rate) = librosa.load(s)\n",
    "        mfcc_feat = librosa.feature.mfcc(y=sig,sr=rate,n_mfcc=13)\n",
    "        Xtest[i] = np.mean(mfcc_feat, axis=1)\n",
    "        i += 1\n",
    "    yTest += [clNumber]*nb\n",
    "    clNumber += 1\n",
    "\n",
    "yTest = np.array(yTest)"
   ]
  },
  {
   "cell_type": "markdown",
   "metadata": {},
   "source": [
    "## Classification par kNN"
   ]
  },
  {
   "cell_type": "markdown",
   "metadata": {},
   "source": [
    "**Question 1**: Pour chaque représentation des fichiers sons, calculez les prédictions d'une classification par kNN. Pour cela, il faudra tester plusieurs valeurs de k."
   ]
  },
  {
   "cell_type": "markdown",
   "source": [
    "### Prédiction pour une représentation des sons avec 1 MFCC"
   ],
   "metadata": {
    "collapsed": false
   }
  },
  {
   "cell_type": "markdown",
   "source": [
    "#### Représentation des sons par 1 MFCC"
   ],
   "metadata": {
    "collapsed": false
   }
  },
  {
   "cell_type": "code",
   "execution_count": null,
   "outputs": [],
   "source": [
    "# loading train dataset\n",
    "nb=200 # for each class\n",
    "i = 0\n",
    "clNumber = 0\n",
    "yTrain2 = []\n",
    "Xtrain2 = np.empty(shape=(nb*nbClasses, 13), dtype=float)\n",
    "for cl in classes:\n",
    "    listSons = glob.glob(basedir+cl+\"/*.wav\")\n",
    "    for s in listSons[:nb]:\n",
    "        (sig,rate) = librosa.load(s)\n",
    "        mfcc_feat = librosa.feature.mfcc(y=sig,sr=rate,n_mfcc=13, hop_length=len(sig)+1)\n",
    "        Xtrain2[i] = mfcc_feat.reshape(13)\n",
    "        i += 1\n",
    "    yTrain2 += [clNumber]*nb\n",
    "    clNumber += 1\n",
    "\n",
    "yTrain2 = np.array(yTrain2)"
   ],
   "metadata": {
    "collapsed": false
   }
  },
  {
   "cell_type": "code",
   "execution_count": null,
   "outputs": [],
   "source": [
    "## loading test dataset\n",
    "i = 0\n",
    "clNumber = 0\n",
    "yTest2 = []\n",
    "Xtest2 = np.empty(shape=(nb*nbClasses, 13), dtype=float)\n",
    "for cl in classes:\n",
    "    listSons = glob.glob(basedir+cl+\"/*.wav\")\n",
    "    for s in listSons[-nb:]:\n",
    "    #print(\"###\",s,\"###\")\n",
    "        (sig,rate) = librosa.load(s)\n",
    "        mfcc_feat = librosa.feature.mfcc(y=sig,sr=rate,n_mfcc=13, hop_length=len(sig)+1)\n",
    "        Xtest2[i] = mfcc_feat.reshape(13)\n",
    "        i += 1\n",
    "    yTest2 += [clNumber]*nb\n",
    "    clNumber += 1\n",
    "\n",
    "yTest2 = np.array(yTest2)"
   ],
   "metadata": {
    "collapsed": false
   }
  },
  {
   "cell_type": "code",
   "execution_count": null,
   "metadata": {
    "ExecuteTime": {
     "end_time": "2023-03-23T21:52:01.137798Z",
     "start_time": "2023-03-23T21:52:01.134058Z"
    }
   },
   "outputs": [],
   "source": [
    "numberNN = 5"
   ]
  },
  {
   "cell_type": "code",
   "execution_count": null,
   "outputs": [],
   "source": [
    "#predictions\n",
    "predTrain = [voteKnn(Xtrain2, yTrain2, numberNN, i) for i in Xtrain2]\n",
    "predTest =  [voteKnn(Xtest2, yTest2, numberNN, i) for i in Xtest2] # Peut-être qu'il serait plus intelligent de mettre Xtrain et yTrain ici"
   ],
   "metadata": {
    "collapsed": false
   }
  },
  {
   "cell_type": "markdown",
   "source": [
    "### Prédiction pour une représentation des sons avec la moyenne des MFCC"
   ],
   "metadata": {
    "collapsed": false
   }
  },
  {
   "cell_type": "markdown",
   "source": [
    "#### Représentation des sons par la moyenne des MFCCs (longueur standard)"
   ],
   "metadata": {
    "collapsed": false
   }
  },
  {
   "cell_type": "code",
   "execution_count": 155,
   "outputs": [],
   "source": [
    "# loading train dataset\n",
    "nb=200 # for each class\n",
    "i = 0\n",
    "clNumber = 0\n",
    "yTrain = []\n",
    "Xtrain = np.empty(shape=(nb*nbClasses, 13), dtype=float)\n",
    "for cl in classes:\n",
    "    listSons = glob.glob(basedir+cl+\"/*.wav\")\n",
    "    for s in listSons[:nb]:\n",
    "        (sig,rate) = librosa.load(s)\n",
    "        mfcc_feat = librosa.feature.mfcc(y=sig,sr=rate,n_mfcc=13)\n",
    "        Xtrain[i] = np.mean(mfcc_feat, axis=1)\n",
    "        i += 1\n",
    "    yTrain += [clNumber]*nb\n",
    "    clNumber += 1\n",
    "\n",
    "yTrain = np.array(yTrain)"
   ],
   "metadata": {
    "collapsed": false
   }
  },
  {
   "cell_type": "code",
   "execution_count": 156,
   "outputs": [],
   "source": [
    "## loading test dataset\n",
    "i = 0\n",
    "clNumber = 0\n",
    "yTest = []\n",
    "Xtest = np.empty(shape=(nb*nbClasses, 13), dtype=float)\n",
    "for cl in classes:\n",
    "    listSons = glob.glob(basedir+cl+\"/*.wav\")\n",
    "    for s in listSons[-nb:]:\n",
    "    #print(\"###\",s,\"###\")\n",
    "        (sig,rate) = librosa.load(s)\n",
    "        mfcc_feat = librosa.feature.mfcc(y=sig,sr=rate,n_mfcc=13)\n",
    "        Xtest[i] = np.mean(mfcc_feat, axis=1)\n",
    "        i += 1\n",
    "    yTest += [clNumber]*nb\n",
    "    clNumber += 1\n",
    "\n",
    "yTest = np.array(yTest)"
   ],
   "metadata": {
    "collapsed": false
   }
  },
  {
   "cell_type": "code",
   "execution_count": 157,
   "outputs": [],
   "source": [
    "numberNN = 1"
   ],
   "metadata": {
    "collapsed": false
   }
  },
  {
   "cell_type": "code",
   "execution_count": 158,
   "outputs": [],
   "source": [
    "#predictions\n",
    "predTrain = [voteKnn(Xtrain, yTrain, numberNN, i) for i in Xtrain]\n",
    "predTest =  [voteKnn(Xtest, yTest, numberNN, i) for i in Xtest] # Peut-être qu'il serait plus intelligent de mettre Xtrain et yTrain ici"
   ],
   "metadata": {
    "collapsed": false
   }
  },
  {
   "cell_type": "markdown",
   "source": [
    "**Question 2**: Calculez les matrices de confusion, les métriques de précision 'accuracy' et de score F1 pour les données d'apprentissage et de test. Pour cela, écrire 3 fonctions: <ul> <li> une fonction qui affiche une matrice de confusion</li> <li>une fonction qui calcule la précision (accuracy)</li><li>une fonction qui calcule le score F1 d'une classe</li></ul>"
   ],
   "metadata": {
    "collapsed": false
   }
  },
  {
   "cell_type": "code",
   "execution_count": 159,
   "outputs": [
    {
     "name": "stdout",
     "output_type": "stream",
     "text": [
      "[0, 0, 0, 0, 0, 0, 0, 0, 0, 0, 0, 0, 0, 0, 0, 0, 0, 0, 0, 0, 0, 0, 0, 0, 0, 0, 0, 0, 0, 0, 0, 0, 0, 0, 0, 0, 0, 0, 0, 0, 0, 0, 0, 0, 0, 0, 0, 0, 0, 0, 0, 0, 0, 0, 0, 0, 0, 0, 0, 0, 0, 0, 0, 0, 0, 0, 0, 0, 0, 0, 0, 0, 0, 0, 0, 0, 0, 0, 0, 0, 0, 0, 0, 0, 0, 0, 0, 0, 0, 0, 0, 0, 0, 0, 0, 0, 0, 0, 0, 0, 0, 0, 0, 0, 0, 0, 0, 0, 0, 0, 0, 0, 0, 0, 0, 0, 0, 0, 0, 0, 0, 0, 0, 0, 0, 0, 0, 0, 0, 0, 0, 0, 0, 0, 0, 0, 0, 0, 0, 0, 0, 0, 0, 0, 0, 0, 0, 0, 0, 0, 0, 0, 0, 0, 0, 0, 0, 0, 0, 0, 0, 0, 0, 0, 0, 0, 0, 0, 0, 0, 0, 0, 0, 0, 0, 0, 0, 0, 0, 0, 0, 0, 0, 0, 0, 0, 0, 0, 0, 0, 0, 0, 0, 0, 0, 0, 0, 0, 0, 0, 1, 1, 1, 1, 1, 1, 1, 1, 1, 1, 1, 1, 1, 1, 1, 1, 1, 1, 1, 1, 1, 1, 1, 1, 1, 1, 1, 1, 1, 1, 1, 1, 1, 1, 1, 1, 1, 1, 1, 1, 1, 1, 1, 1, 1, 1, 1, 1, 1, 1, 1, 1, 1, 1, 1, 1, 1, 1, 1, 1, 1, 1, 1, 1, 1, 1, 1, 1, 1, 1, 1, 1, 1, 1, 1, 1, 1, 1, 1, 1, 1, 1, 1, 1, 1, 1, 1, 1, 1, 1, 1, 1, 1, 1, 1, 1, 1, 1, 1, 1, 1, 1, 1, 1, 1, 1, 1, 1, 1, 1, 1, 1, 1, 1, 1, 1, 1, 1, 1, 1, 1, 1, 1, 1, 1, 1, 1, 1, 1, 1, 1, 1, 1, 1, 1, 1, 1, 1, 1, 1, 1, 1, 1, 1, 1, 1, 1, 1, 1, 1, 1, 1, 1, 1, 1, 1, 1, 1, 1, 1, 1, 1, 1, 1, 1, 1, 1, 1, 1, 1, 1, 1, 1, 1, 1, 1, 1, 1, 1, 1, 1, 1, 1, 1, 1, 1, 1, 1, 1, 1, 1, 1, 1, 1, 1, 1, 1, 1, 1, 1, 2, 2, 2, 2, 2, 2, 2, 2, 2, 2, 2, 2, 2, 2, 2, 2, 2, 2, 2, 2, 2, 2, 2, 2, 2, 2, 2, 2, 2, 2, 2, 2, 2, 2, 2, 2, 2, 2, 2, 2, 2, 2, 2, 2, 2, 2, 2, 2, 2, 2, 2, 2, 2, 2, 2, 2, 2, 2, 2, 2, 2, 2, 2, 2, 2, 2, 2, 2, 2, 2, 2, 2, 2, 2, 2, 2, 2, 2, 2, 2, 2, 2, 2, 2, 2, 2, 2, 2, 2, 2, 2, 2, 2, 2, 2, 2, 2, 2, 2, 2, 2, 2, 2, 2, 2, 2, 2, 2, 2, 2, 2, 2, 2, 2, 2, 2, 2, 2, 2, 2, 2, 2, 2, 2, 2, 2, 2, 2, 2, 2, 2, 2, 2, 2, 2, 2, 2, 2, 2, 2, 2, 2, 2, 2, 2, 2, 2, 2, 2, 2, 2, 2, 2, 2, 2, 2, 2, 2, 2, 2, 2, 2, 2, 2, 2, 2, 2, 2, 2, 2, 2, 2, 2, 2, 2, 2, 2, 2, 2, 2, 2, 2, 2, 2, 2, 2, 2, 2, 2, 2, 2, 2, 2, 2, 2, 2, 2, 2, 2, 2]\n",
      "[0 0 0 0 0 0 0 0 0 0 0 0 0 0 0 0 0 0 0 0 0 0 0 0 0 0 0 0 0 0 0 0 0 0 0 0 0\n",
      " 0 0 0 0 0 0 0 0 0 0 0 0 0 0 0 0 0 0 0 0 0 0 0 0 0 0 0 0 0 0 0 0 0 0 0 0 0\n",
      " 0 0 0 0 0 0 0 0 0 0 0 0 0 0 0 0 0 0 0 0 0 0 0 0 0 0 0 0 0 0 0 0 0 0 0 0 0\n",
      " 0 0 0 0 0 0 0 0 0 0 0 0 0 0 0 0 0 0 0 0 0 0 0 0 0 0 0 0 0 0 0 0 0 0 0 0 0\n",
      " 0 0 0 0 0 0 0 0 0 0 0 0 0 0 0 0 0 0 0 0 0 0 0 0 0 0 0 0 0 0 0 0 0 0 0 0 0\n",
      " 0 0 0 0 0 0 0 0 0 0 0 0 0 0 0 1 1 1 1 1 1 1 1 1 1 1 1 1 1 1 1 1 1 1 1 1 1\n",
      " 1 1 1 1 1 1 1 1 1 1 1 1 1 1 1 1 1 1 1 1 1 1 1 1 1 1 1 1 1 1 1 1 1 1 1 1 1\n",
      " 1 1 1 1 1 1 1 1 1 1 1 1 1 1 1 1 1 1 1 1 1 1 1 1 1 1 1 1 1 1 1 1 1 1 1 1 1\n",
      " 1 1 1 1 1 1 1 1 1 1 1 1 1 1 1 1 1 1 1 1 1 1 1 1 1 1 1 1 1 1 1 1 1 1 1 1 1\n",
      " 1 1 1 1 1 1 1 1 1 1 1 1 1 1 1 1 1 1 1 1 1 1 1 1 1 1 1 1 1 1 1 1 1 1 1 1 1\n",
      " 1 1 1 1 1 1 1 1 1 1 1 1 1 1 1 1 1 1 1 1 1 1 1 1 1 1 1 1 1 1 2 2 2 2 2 2 2\n",
      " 2 2 2 2 2 2 2 2 2 2 2 2 2 2 2 2 2 2 2 2 2 2 2 2 2 2 2 2 2 2 2 2 2 2 2 2 2\n",
      " 2 2 2 2 2 2 2 2 2 2 2 2 2 2 2 2 2 2 2 2 2 2 2 2 2 2 2 2 2 2 2 2 2 2 2 2 2\n",
      " 2 2 2 2 2 2 2 2 2 2 2 2 2 2 2 2 2 2 2 2 2 2 2 2 2 2 2 2 2 2 2 2 2 2 2 2 2\n",
      " 2 2 2 2 2 2 2 2 2 2 2 2 2 2 2 2 2 2 2 2 2 2 2 2 2 2 2 2 2 2 2 2 2 2 2 2 2\n",
      " 2 2 2 2 2 2 2 2 2 2 2 2 2 2 2 2 2 2 2 2 2 2 2 2 2 2 2 2 2 2 2 2 2 2 2 2 2\n",
      " 2 2 2 2 2 2 2 2]\n",
      "[200, 0, 0]\n",
      "[0, 200, 0]\n",
      "[0, 0, 200]\n"
     ]
    }
   ],
   "source": [
    "#ici\n",
    "# Calcul matrice de confusion\n",
    "\n",
    "def confusion_matrix_calculation(Ydata, predData):\n",
    "    if len(Ydata) != len(predData): exit(1)\n",
    "    classes = np.unique(Ydata)\n",
    "    nb_classes = len(classes)\n",
    "    matrix = [[0 for i2 in range(nb_classes)] for i3 in range(nb_classes)] # feat Nicolas Zanin\n",
    "    for c in classes:\n",
    "        for d, c2 in zip(Ydata, range(0, len(Ydata))):\n",
    "            if d == c:\n",
    "                matrix[c][predData[c2]] += 1\n",
    "    return matrix\n",
    "\n",
    "# Affichage matrice de confusion\n",
    "def print_confusion_matrix(matrix):\n",
    "    for i2 in matrix:\n",
    "        print(i2)\n",
    "\n",
    "print(predTrain)\n",
    "print(yTrain)\n",
    "print_confusion_matrix(confusion_matrix_calculation(yTrain, predTrain))\n",
    "#cpt = 0\n",
    "#for i, j in zip(yTrain, predTrain):\n",
    "#    if i==j and i == 1:\n",
    "#        cpt+=1\n",
    "#print(cpt)"
   ],
   "metadata": {
    "collapsed": false
   }
  },
  {
   "cell_type": "code",
   "execution_count": 172,
   "outputs": [
    {
     "name": "stdout",
     "output_type": "stream",
     "text": [
      "1.0\n"
     ]
    }
   ],
   "source": [
    "def get_vp_vn_fp_fn(matrice):\n",
    "    if len(matrice) != 3 and len(matrice[0]) != 3: exit(1)\n",
    "    VP = 0 # vrais positifs\n",
    "    VN = 0 # vrais négatifs\n",
    "    FP = 0 # faux positifs\n",
    "    FN = 0 # faux négatifs\n",
    "    classe_courante = 0\n",
    "    for i in range(0, len(matrice)):\n",
    "        for j in range(0, len(matrice[0])):\n",
    "            if i == j:\n",
    "                VP += matrice[i][j]\n",
    "            else:\n",
    "                FN += matrice[i][j]\n",
    "                FP += matrice[j][i]\n",
    "        for i2 in range(0, len(matrice)):\n",
    "            for j2 in range(0, len(matrice)):\n",
    "                if i2 != classe_courante and j2 != classe_courante:\n",
    "                        VN += matrice[i2][j2]\n",
    "        classe_courante+=1\n",
    "    return VP, VN, FP, FN\n",
    "\n",
    "#Calcul de la précision (accuracy)\n",
    "def calculation_accuracy(matrice):\n",
    "    vp, vn, fp, fn = get_vp_vn_fp_fn(matrice)\n",
    "    return (vp + vn)/(vp + vn + fp + fn)\n",
    "\n",
    "matrice = confusion_matrix_calculation(yTrain, predTrain)\n",
    "precision = calculation_accuracy(matrice)\n",
    "print(precision)"
   ],
   "metadata": {
    "collapsed": false
   }
  },
  {
   "cell_type": "code",
   "execution_count": 166,
   "outputs": [
    {
     "name": "stdout",
     "output_type": "stream",
     "text": [
      "0.5\n"
     ]
    }
   ],
   "source": [
    "def get_vp_vn_fp_fn(matrice):\n",
    "    if len(matrice) != len(matrice[0]): exit(1)\n",
    "    VP = 0 # vrais positifs\n",
    "    VN = 0 # vrais négatifs\n",
    "    FP = 0 # faux positifs\n",
    "    FN = 0 # faux négatifs\n",
    "    classe_courante = 0\n",
    "    for i in range(0, len(matrice)):\n",
    "        for j in range(0, len(matrice[0])):\n",
    "            if i == j:\n",
    "                VP += matrice[i][j]\n",
    "            FP += matrice[i][j]\n",
    "            FN += matrice[j][i]\n",
    "            for i2 in range(0, len(matrice)):\n",
    "                for j2 in range(0, len(matrice)):\n",
    "                    if i2 != classe_courante and j2 != classe_courante:\n",
    "                        VN += matrice[i2][j2]\n",
    "            classe_courante+=1\n",
    "    return VP, FP, VN, FN\n",
    "\n",
    "#Calcul du score F1 d'une classe\n",
    "def calcul_f1(matrice):\n",
    "    vp, fp, vn, fn = get_vp_vn_fp_fn(matrice)\n",
    "    return (2*vp)/((2*vp) + fp + fn)\n",
    "\n",
    "matrice = confusion_matrix_calculation(yTrain, predTrain)\n",
    "score_f1 = calcul_f1(matrice)\n",
    "print(score_f1)"
   ],
   "metadata": {
    "collapsed": false
   }
  },
  {
   "cell_type": "markdown",
   "metadata": {},
   "source": [
    "**Question 3:** Affichez la courbe de la précision (accuracy) en fonction du k de kNN pour les données d'apprentissage et pour les données de test."
   ]
  },
  {
   "cell_type": "markdown",
   "source": [
    "1 MFCC"
   ],
   "metadata": {
    "collapsed": false
   }
  },
  {
   "cell_type": "code",
   "execution_count": 167,
   "outputs": [],
   "source": [
    "# loading train dataset\n",
    "\n",
    "nb = 200  # for each class\n",
    "i = 0\n",
    "clNumber = 0\n",
    "yTrain2 = []\n",
    "Xtrain2 = np.empty(shape=(nb * nbClasses, 13), dtype=float)\n",
    "for cl in classes:\n",
    "    listSons = glob.glob(basedir + cl + \"/*.wav\")\n",
    "    for s in listSons[:nb]:\n",
    "        (sig, rate) = librosa.load(s)\n",
    "        mfcc_feat = librosa.feature.mfcc(y=sig, sr=rate, n_mfcc=13, hop_length=len(sig) + 1)\n",
    "        Xtrain2[i] = mfcc_feat.reshape(13)\n",
    "        i += 1\n",
    "    yTrain2 += [clNumber] * nb\n",
    "    clNumber += 1\n",
    "\n",
    "yTrain2 = np.array(yTrain2)\n",
    "\n",
    "## loading test dataset\n",
    "i = 0\n",
    "clNumber = 0\n",
    "yTest2 = []\n",
    "Xtest2 = np.empty(shape=(nb * nbClasses, 13), dtype=float)\n",
    "for cl in classes:\n",
    "    listSons = glob.glob(basedir + cl + \"/*.wav\")\n",
    "    for s in listSons[-nb:]:\n",
    "        #print(\"###\",s,\"###\")\n",
    "        (sig, rate) = librosa.load(s)\n",
    "        mfcc_feat = librosa.feature.mfcc(y=sig, sr=rate, n_mfcc=13, hop_length=len(sig) + 1)\n",
    "        Xtest2[i] = mfcc_feat.reshape(13)\n",
    "        i += 1\n",
    "    yTest2 += [clNumber] * nb\n",
    "    clNumber += 1\n",
    "\n",
    "yTest2 = np.array(yTest2)"
   ],
   "metadata": {
    "collapsed": false
   }
  },
  {
   "cell_type": "markdown",
   "source": [
    "Moyenne des MFCC"
   ],
   "metadata": {
    "collapsed": false
   }
  },
  {
   "cell_type": "code",
   "execution_count": 168,
   "outputs": [],
   "source": [
    "# loading train dataset\n",
    "nb = 200  # for each class\n",
    "i = 0\n",
    "clNumber = 0\n",
    "yTrain = []\n",
    "Xtrain = np.empty(shape=(nb * nbClasses, 13), dtype=float)\n",
    "for cl in classes:\n",
    "    listSons = glob.glob(basedir + cl + \"/*.wav\")\n",
    "    for s in listSons[:nb]:\n",
    "        (sig, rate) = librosa.load(s)\n",
    "        mfcc_feat = librosa.feature.mfcc(y=sig, sr=rate, n_mfcc=13)\n",
    "        Xtrain[i] = np.mean(mfcc_feat, axis=1)\n",
    "        i += 1\n",
    "    yTrain += [clNumber] * nb\n",
    "    clNumber += 1\n",
    "\n",
    "yTrain = np.array(yTrain)\n",
    "## loading test dataset\n",
    "i = 0\n",
    "clNumber = 0\n",
    "yTest = []\n",
    "Xtest = np.empty(shape=(nb * nbClasses, 13), dtype=float)\n",
    "for cl in classes:\n",
    "    listSons = glob.glob(basedir + cl + \"/*.wav\")\n",
    "    for s in listSons[-nb:]:\n",
    "        #print(\"###\",s,\"###\")\n",
    "        (sig, rate) = librosa.load(s)\n",
    "        mfcc_feat = librosa.feature.mfcc(y=sig, sr=rate, n_mfcc=13)\n",
    "        Xtest[i] = np.mean(mfcc_feat, axis=1)\n",
    "        i += 1\n",
    "    yTest += [clNumber] * nb\n",
    "    clNumber += 1\n",
    "\n",
    "yTest = np.array(yTest)"
   ],
   "metadata": {
    "collapsed": false
   }
  },
  {
   "cell_type": "code",
   "execution_count": 174,
   "metadata": {
    "ExecuteTime": {
     "end_time": "2023-03-23T22:41:39.795746Z",
     "start_time": "2023-03-23T22:41:39.793601Z"
    }
   },
   "outputs": [
    {
     "data": {
      "text/plain": "<Figure size 640x480 with 1 Axes>",
      "image/png": "[encoded data removed]"
     },
     "metadata": {},
     "output_type": "display_data"
    }
   ],
   "source": [
    "#ici\n",
    "Y = []\n",
    "Y2 = []\n",
    "Y3 = []\n",
    "Y4 = []\n",
    "F1 = []\n",
    "F1bis = []\n",
    "min_knn_value = 1\n",
    "max_knn_value = 100\n",
    "for j in range(min_knn_value, max_knn_value):\n",
    "    matriceTrain2 = confusion_matrix_calculation(yTrain2, [voteKnn(Xtrain2, yTrain2, j, i) for i in Xtrain2])\n",
    "    matriceTest2 = confusion_matrix_calculation(yTest2, [voteKnn(Xtest2, yTest2, j, i) for i in Xtest2])\n",
    "    matriceTrain = confusion_matrix_calculation(yTrain, [voteKnn(Xtrain, yTrain, j, i) for i in Xtrain])\n",
    "    matriceTest = confusion_matrix_calculation(yTest, [voteKnn(Xtest, yTest, j, i) for i in Xtest])\n",
    "    Y.append(calculation_accuracy(matriceTrain2))\n",
    "    Y3.append(calculation_accuracy(matriceTrain))\n",
    "    #F1.append(calcul_f1(matriceTrain2))\n",
    "    Y2.append(calculation_accuracy(matriceTest2))\n",
    "    Y4.append(calculation_accuracy(matriceTest))\n",
    "    #F1bis.append(calcul_f1(matriceTest2))\n",
    "X = [i for i in range(min_knn_value, max_knn_value)]\n",
    "#fig,(ax1, ax2) = plt.subplots(1, 2, figsize=(20,5))\n",
    "#ax1.set_xlim(min_knn_value, max_knn_value)\n",
    "#ax1.set_ylim(0.3, 1)\n",
    "plt.plot(X,Y, label = \"xtrain accuracy | 1 mfcc\")\n",
    "plt.plot(X,Y3, label = \"xtrain accuracy | mfcc mean\")\n",
    "#ax1.plot(X, F1, label = \"xtrain f1-score\")\n",
    "#ax2.set_xlim(min_knn_value, max_knn_value)\n",
    "#ax2.set_ylim(0, 1)\n",
    "plt.plot(X, Y2, label = \"xtest accuracy | 1 mfcc\")\n",
    "plt.plot(X,Y4, label = \"xtrain accuracy | mfcc mean\")\n",
    "#plt.ylim(0.5, 1)\n",
    "#ax2.plot(X, F1bis, label = \"xtest f1-score\")\n",
    "plt.legend()\n",
    "plt.show()"
   ]
  },
  {
   "cell_type": "markdown",
   "metadata": {},
   "source": [
    "**Question 4:** Parmi les 2 représentations proposées, laquelle vous parait la meilleure?"
   ]
  },
  {
   "cell_type": "code",
   "execution_count": null,
   "metadata": {},
   "outputs": [],
   "source": [
    "#ici"
   ]
  }
 ],
 "metadata": {
  "hide_input": false,
  "kernelspec": {
   "display_name": "Python 3",
   "language": "python",
   "name": "python3"
  },
  "language_info": {
   "codemirror_mode": {
    "name": "ipython",
    "version": 3
   },
   "file_extension": ".py",
   "mimetype": "text/x-python",
   "name": "python",
   "nbconvert_exporter": "python",
   "pygments_lexer": "ipython3",
   "version": "3.8.10"
  },
  "latex_envs": {
   "LaTeX_envs_menu_present": true,
   "autoclose": false,
   "autocomplete": true,
   "bibliofile": "biblio.bib",
   "cite_by": "apalike",
   "current_citInitial": 1,
   "eqLabelWithNumbers": true,
   "eqNumInitial": 1,
   "hotkeys": {
    "equation": "Ctrl-E",
    "itemize": "Ctrl-I"
   },
   "labels_anchors": false,
   "latex_user_defs": false,
   "report_style_numbering": false,
   "user_envs_cfg": false
  },
  "varInspector": {
   "cols": {
    "lenName": 16,
    "lenType": 16,
    "lenVar": 40
   },
   "kernels_config": {
    "python": {
     "delete_cmd_postfix": "",
     "delete_cmd_prefix": "del ",
     "library": "var_list.py",
     "varRefreshCmd": "print(var_dic_list())"
    },
    "r": {
     "delete_cmd_postfix": ") ",
     "delete_cmd_prefix": "rm(",
     "library": "var_list.r",
     "varRefreshCmd": "cat(var_dic_list()) "
    }
   },
   "types_to_exclude": [
    "module",
    "function",
    "builtin_function_or_method",
    "instance",
    "_Feature"
   ],
   "window_display": false
  }
 },
 "nbformat": 4,
 "nbformat_minor": 4
}
