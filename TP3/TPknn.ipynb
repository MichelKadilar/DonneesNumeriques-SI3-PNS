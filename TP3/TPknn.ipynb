{
 "cells": [
  {
   "cell_type": "markdown",
   "metadata": {},
   "source": [
    "# Polytech SI3 - Données numériques\n",
    "Diane Lingrand\n",
    "\n",
    "Diane.Lingrand@univ-cotedazur.fr\n",
    "\n",
    "2022-2023\n",
    "\n",
    "# Cours 3 - kNN"
   ]
  },
  {
   "cell_type": "code",
   "execution_count": 1,
   "metadata": {
    "ExecuteTime": {
     "end_time": "2023-02-23T09:51:14.858056Z",
     "start_time": "2023-02-23T09:51:14.849865Z"
    }
   },
   "outputs": [],
   "source": [
    "#chargement des librairies\n",
    "import numpy as np\n",
    "import matplotlib.pyplot as plt\n",
    "import pickle"
   ]
  },
  {
   "cell_type": "markdown",
   "metadata": {},
   "source": [
    "## kNN in dimension 2"
   ]
  },
  {
   "cell_type": "markdown",
   "metadata": {
    "ExecuteTime": {
     "end_time": "2023-02-23T15:14:35.551283Z",
     "start_time": "2023-02-23T15:14:35.548596Z"
    }
   },
   "source": [
    "### simple synthetic data for debuging"
   ]
  },
  {
   "cell_type": "markdown",
   "metadata": {},
   "source": [
    "We will start with few data (2d points) arranged in a regular grid and two classes: 0 and 1."
   ]
  },
  {
   "cell_type": "code",
   "execution_count": 2,
   "metadata": {
    "ExecuteTime": {
     "end_time": "2023-02-23T20:59:45.850601Z",
     "start_time": "2023-02-23T20:59:45.642198Z"
    }
   },
   "outputs": [
    {
     "data": {
      "text/plain": "<matplotlib.collections.PathCollection at 0x146c4e84dc0>"
     },
     "execution_count": 2,
     "metadata": {},
     "output_type": "execute_result"
    },
    {
     "data": {
      "text/plain": "<Figure size 640x480 with 1 Axes>",
      "image/png": "[encoded data removed]"
     },
     "metadata": {},
     "output_type": "display_data"
    }
   ],
   "source": [
    "nbClasses = 2\n",
    "# the 2d points\n",
    "Xtrain =np.mgrid[0:4.1:1, 0:3.1:1].reshape(2,-1).T\n",
    "# the classes\n",
    "yTrain = [0,0,0,0,0,0,0,0,1,1,1,1,1,1,1,1,1,1,1,1] # classe de chaque élément\n",
    "# the vector of colors for drawing purpose\n",
    "colors = np.array([\"green\",\"yellow\", \"black\"])\n",
    "# let draw the points using colored circles with black edges\n",
    "plt.title(\"Training dataset\")\n",
    "plt.scatter(Xtrain[:, 0], Xtrain[:, 1], marker=\"o\", c=colors[yTrain], s=25, edgecolor=\"k\")"
   ]
  },
  {
   "cell_type": "markdown",
   "metadata": {},
   "source": [
    "Set a variable 'kNN' to the number of neighbors you would like to consider (start with 5). A new point will be denoted by 'newX'."
   ]
  },
  {
   "cell_type": "code",
   "execution_count": 3,
   "metadata": {},
   "outputs": [],
   "source": [
    "newX = [0.5,1] # ceci est un point\n",
    "nKNN = 5 # ceci est le nombre de voisins qu'on va considérer lors de nos études"
   ]
  },
  {
   "cell_type": "markdown",
   "metadata": {},
   "source": [
    "**Question 1:** Compute all Euclidean distances between this new point and all points in the training dataset. You will need [numpy.sum](https://numpy.org/doc/stable/reference/generated/numpy.sum.html) and [numpy.sqrt](https://numpy.org/doc/stable/reference/generated/numpy.sqrt.html) functions."
   ]
  },
  {
   "cell_type": "code",
   "execution_count": 9,
   "metadata": {},
   "outputs": [
    {
     "name": "stdout",
     "output_type": "stream",
     "text": [
      "[1.118033988749895, 0.5, 1.118033988749895, 2.0615528128088303, 1.118033988749895, 0.5, 1.118033988749895, 2.0615528128088303, 1.8027756377319946, 1.5, 1.8027756377319946, 2.5, 2.692582403567252, 2.5, 2.692582403567252, 3.2015621187164243, 3.640054944640259, 3.5, 3.640054944640259, 4.031128874149275]\n"
     ]
    }
   ],
   "source": [
    "#list of all distances\n",
    "# your work here\n",
    "distance = []\n",
    "for pointX in Xtrain:\n",
    "    distance.append(np.sqrt(np.power(pointX[0] - newX[0], 2) + np.power(pointX[1] - newX[1], 2)))\n",
    "#distance = np.sqrt(np.sum(np.power(Xtrain - newX,2), axis=1))\n",
    "print(distance)\n",
    "# pour améliorer les performances, on peut aussi afficher juste après le append dans la boucle."
   ]
  },
  {
   "cell_type": "markdown",
   "source": [
    "Ici, on utilise simplement la formule mathématique :\n",
    "$racine((x1-x2)^2  + (y1-y2)^2))$ qui sert à calculer la distance entre les points A (x1, y1) et B (x2, y2).\n",
    "Dans l'exercice, on calcule la distance entre chaque point contenu dans Xtrain et le point qu'on décide d'étudier : newX.\n",
    "\n",
    "Xtrain[i][0] signifie qu'on récupère l'élément d'indice i dans le tableau Xtrain. Or l'élément i est lui-même un tableau qui contient deux coordoonnées x et y (il s'agit donc d'un point) de la façon suivante : [x, y]\n",
    "En faisant Xtrain[i][0], je récupère donc l'abscisse de ce point.\n",
    "En faisant Xtrain[i][1], j'en récupère l'ordonnée.\n",
    "\n",
    "Ce qui donne donc des calculs du type :  $racine((Xtrain[0][0]-newX[0])^2  + (Xtrain[0][1]-newX[1])^2))$, et ainsi de suite, pour les N éléments du tableau Xtrain."
   ],
   "metadata": {
    "collapsed": false
   }
  },
  {
   "cell_type": "markdown",
   "metadata": {},
   "source": [
    "**Question 2:** Sort the distances and build an array of indices of training points using [numpy.argsort](https://numpy.org/doc/stable/reference/generated/numpy.argsort.html)"
   ]
  },
  {
   "cell_type": "code",
   "execution_count": 12,
   "metadata": {},
   "outputs": [
    {
     "name": "stdout",
     "output_type": "stream",
     "text": [
      "[ 1  5  0  2  6  4  9  8 10  7  3 11 13 12 14 15 17 18 16 19]\n"
     ]
    }
   ],
   "source": [
    "# your work here\n",
    "res = np.argsort(distance)\n",
    "print(res)"
   ]
  },
  {
   "cell_type": "markdown",
   "source": [
    "Dans cet exercice, argsort renvoie simplement les indices des éléments contenus dans le tableau distance s'ils étaient triés.\n",
    "Autrement dit, le premier élément est l'élément d'indice 1, donc on sait alors que si on triait le tableau distance, le premier element serait l'élément d'indice 1, à savoir la valeur 0.5.\n",
    "Le deuxième élément du tableau trié serait alors le cinquième élément du tableau distance (pas trié), etc."
   ],
   "metadata": {
    "collapsed": false
   }
  },
  {
   "cell_type": "markdown",
   "metadata": {},
   "source": [
    "**Question 3:** Take the indices of 'nKNN' smallest distances. Build an array 'Xn' of the training points at these indices and 'yn' for the corresponding classes."
   ]
  },
  {
   "cell_type": "code",
   "execution_count": 25,
   "outputs": [
    {
     "name": "stdout",
     "output_type": "stream",
     "text": [
      "[1 5 0 2 6]\n",
      "[[0. 1.]\n",
      " [1. 1.]\n",
      " [0. 0.]\n",
      " [0. 2.]\n",
      " [1. 2.]]\n",
      "[0, 0, 0, 0, 0]\n"
     ]
    }
   ],
   "source": [
    "# nKNN smallest distances indices\n",
    "nei = res[0:nKNN]\n",
    "\n",
    "# nKNN closest data\n",
    "Xn = []\n",
    "yn = []\n",
    "for i in nei:\n",
    "    Xn.append(Xtrain[i])\n",
    "    yn.append(yTrain[i])\n",
    "Xn = np.array(Xn)\n",
    "print(nei)\n",
    "print(Xn)\n",
    "print(yn)"
   ],
   "metadata": {
    "collapsed": false
   }
  },
  {
   "cell_type": "markdown",
   "source": [
    "```python\n",
    "nei = res[0:nKNN]\n",
    "```\n",
    "Ce code permet de récupérer les nKNN premiers éléments du tableau \"res\", et de stocker le résultat dans nei.\n",
    "Autrement dit, ce code récupère en fait ici les 5 premiers indices des éléments si le tableau distance était trié.\n",
    "\n",
    "Par la suite, on parcourt ces indices, et on récupère les éléments de Xtrain qui ont permis d'obtenir les éléments du tableau distance qui ont ces indices.\n",
    "On rappelle :\n",
    "- Xtrain -> contient des points\n",
    "- newX -> point étudié\n",
    "- distance -> tableau contenant la distance entre chaque élément de Xtrain et newX\n",
    "- res -> tableau contenant les indices des éléments du tableau \"distance\" s'il était trié\n",
    "- nei -> tableau contenant les indices des nKNN premiers éléments du tableau \"res\"\n",
    "\n",
    "```python\n",
    "for i in nei:\n",
    "    Xn.append(Xtrain[i])\n",
    "```\n",
    "\n",
    "Ce code permet alors de récupérer les points du tableau Xtrain qui ont permis d'obtenir les nKNN plus petites distances\n",
    "par rapport au point newX.\n",
    "\n",
    "Car ici, le but est de trouver les nKNN voisins les plus proches du point qu'on étudie. Les points les plus proches sont ceux qui ont la distance la plus courte par rapport au point étudié.\n",
    "\n",
    "\n",
    "```python\n",
    "for i in nei:\n",
    "    yn.append(yTrain[i])\n",
    "```\n",
    "\n",
    "Ce code permet de récupérer les classes (la nature) des points récupérés dans Xtrain juste au dessus.\n",
    "L'élément d'indice 0 de yTrain correspond à l'élément d'indice 0 de Xtrain.\n"
   ],
   "metadata": {
    "collapsed": false
   }
  },
  {
   "cell_type": "markdown",
   "source": [],
   "metadata": {
    "collapsed": false
   }
  },
  {
   "cell_type": "markdown",
   "metadata": {},
   "source": [
    " **Question 4:** Using 'yn' compute the majority vote. Don't consider ambiguity now. [numpy.unique](https://numpy.org/doc/stable/reference/generated/numpy.unique.html) and [numpy.argmax](https://numpy.org/doc/stable/reference/generated/numpy.argmax.html) will be useful."
   ]
  },
  {
   "cell_type": "code",
   "execution_count": 41,
   "metadata": {},
   "outputs": [
    {
     "name": "stdout",
     "output_type": "stream",
     "text": [
      "classe =  0\n"
     ]
    }
   ],
   "source": [
    "# majority vote for the class\n",
    "\n",
    "# your work here\n",
    "classes, counts = np.unique(yn, return_counts=True)\n",
    "maxOccIndex = np.argmax(counts) # renvoie l'indice de l'occurrence la plus élévée\n",
    "classe = classes[maxOccIndex] # on récupère la classe correspondant à cette occurrence la plus élevée, autrement dit on récupère la classe ayant le nombre d'occurrence le plus élevé, grâce à leur indice identique (dans les tableaux classes et counts, une classe à un indice précis va trouver son occurrence au même indice dans le tableau counts)\n",
    "print(\"classe = \", classe)"
   ]
  },
  {
   "cell_type": "markdown",
   "source": [
    "Dans cet exercice, np.unique va retourner des tuples (classe, nbOccurrence) à partir du tableau yn.\n",
    "On remarque qu'on met à True un argument optionnel de la fonction np.unique : return_counts, qui permet justement de renvoyer ces occurrences.\n",
    "On stocke les classes renvoyées dans la variable du même nom, et on stocke les nombres d'occurrence de ces classes dans la variable counts.\n",
    "\n",
    "Cela va en fait nous permettre de faire un choix.\n",
    "En effet, le but de cet exercice d'avoir un élément étudié en entrée (newX), et de pouvoir classifier cet élément à partir des informations/points dont on dispose déjà. Dans notre cas, on veut classifier des points, on sert alors de distances, comme on a pu le voir précédemment.\n",
    "En ayant les points les plus proches du point étudié et en ayant leur classe, cela nous permet de trancher dans notre choix de classe pour notre nouvel élément.\n",
    "Si notre élément étudié est plus proche des éléments de classe 0, alors il ira dans la classe 0. Si notre élément étudié est plus proche des éléments de classe 1, alors il ira dans la classe 1.\n",
    "Pour pouvoir déterminer si notre élément étudié est plus proche d'une classe que de l'autre, il suffit de prendre son entourage/ses voisins comme on l'a fait, de calculer des distances, etc, comme on l'a déjà fait, et de voir, parmi cet échantillon de voisins étudiés, combien sont dans la classe 0, et combien sont dans la classe 1.\n",
    "S'il y a plus de points de classe 0 que d'éléments de classe 1 (autrement dit, si notre point étudié est plus proche en termes de distance des points de classe 0 que des éléments de classe 1), alors il ira dans la classe 0. Dans le cas contraire, il ira dans la classe 1.\n",
    "\n",
    "Argmax permet justement d'extraire l'indice de la plus grande occurrence trouvée parmi les classes et points présents dans nos informations.\n",
    "On récupère ensuite la classe correspondant à ce nombre d'occurrence le plus élevé grâce à cet indice. Puisque le nombre d'occurrence et la classe correspondante auront les mêmes indices dans leurs tableaux respectifs classes et counts.\n",
    "\n",
    "Dans cet exercice, il nous est demandé de ne pas gérer l'ambiguïté, j'explique ce qu'est l'ambiguïté dans la prochaine question."
   ],
   "metadata": {
    "collapsed": false
   }
  },
  {
   "cell_type": "markdown",
   "metadata": {},
   "source": [
    "**Question 4bis:** The same but highlight the ambiguity by assigning the classe 'nbClasses' "
   ]
  },
  {
   "cell_type": "code",
   "execution_count": 43,
   "metadata": {},
   "outputs": [
    {
     "name": "stdout",
     "output_type": "stream",
     "text": [
      "classe =  0\n"
     ]
    }
   ],
   "source": [
    "# majority vote for the class\n",
    "\n",
    "#your work here\n",
    "classes, counts = np.unique(yn, return_counts=True)\n",
    "nbOfMaxClasses = np.count_nonzero(counts == np.max(counts)) # Permet de récupérer le nombre de classe qui ont le nombre d'occurrence max du tableau\n",
    "if nbOfMaxClasses > 1:\n",
    "    classe = nbClasses\n",
    "else:\n",
    "    maxOccIndex = np.argmax(counts) # renvoie l'indice de l'occurrence la plus élevée\n",
    "    classe = classes[maxOccIndex] # on récupère la classe correspondant à cette occurrence la plus élevée, autrement dit on récupère la classe ayant le nombre d'occurrence le plus élevé, grâce à leur indice identique (dans les tableaux classes et counts, une classe à un indice précis va trouver son occurrence au même indice dans le tableau counts)\n",
    "print(\"classe = \", classe)"
   ]
  },
  {
   "cell_type": "markdown",
   "source": [
    "L'ambiguïté, avec un exemple simple est : si mon point étudié est aussi proche de la classe 0 que de la classe 1, dans quelle classe est-ce que je le mets ?\n",
    "\n",
    "Ici :\n",
    "\n",
    "```python\n",
    "np.count_nonzero(counts == np.max(counts))\n",
    "```\n",
    "\n",
    "Ce code permet de compter le nombre d'éléments du tableau counts qui sont égaux à np.max(counts), la valeur maximum du tableau counts."
   ],
   "metadata": {
    "collapsed": false
   }
  },
  {
   "cell_type": "markdown",
   "metadata": {},
   "source": [
    "**Question 5:** Plot the training dataset as before. In addition, plot the neighbors point using size 100 instead of 25. Plot the new point using '.' marker, in red. Play with the parameter k and the position of this new point.\n",
    "    "
   ]
  },
  {
   "cell_type": "code",
   "execution_count": 55,
   "metadata": {
    "ExecuteTime": {
     "end_time": "2023-02-23T14:28:03.857223Z",
     "start_time": "2023-02-23T14:28:03.640745Z"
    },
    "scrolled": true
   },
   "outputs": [
    {
     "data": {
      "text/plain": "<matplotlib.collections.PathCollection at 0x146c99b2820>"
     },
     "execution_count": 55,
     "metadata": {},
     "output_type": "execute_result"
    },
    {
     "data": {
      "text/plain": "<Figure size 640x480 with 1 Axes>",
      "image/png": "[encoded data removed]"
     },
     "metadata": {},
     "output_type": "display_data"
    }
   ],
   "source": [
    "thetitle = str(nKNN)+\"-NN neighbors for new red point\"\n",
    "plt.title(thetitle)\n",
    "\n",
    "# your work here\n",
    "\n",
    "# let draw the points using colored circles with black edges\n",
    "plt.scatter(Xtrain[:, 0], Xtrain[:, 1], marker=\"o\", c=colors[yTrain], s=100, edgecolor=\"k\")\n",
    "plt.scatter(Xn[:, 0], Xn[:, 1], marker=\"o\", c=colors[yn], s=100, edgecolor=\"k\")\n",
    "plt.scatter(newX[0], newX[1], marker=\".\", c=\"red\", s=200, edgecolor=\"r\") # contour noir au point rouge"
   ]
  },
  {
   "cell_type": "markdown",
   "metadata": {},
   "source": [
    "**Question 6:** Put everything in the next function and return the class."
   ]
  },
  {
   "cell_type": "code",
   "execution_count": 56,
   "metadata": {
    "ExecuteTime": {
     "end_time": "2023-02-23T21:00:41.546596Z",
     "start_time": "2023-02-23T21:00:41.541613Z"
    }
   },
   "outputs": [],
   "source": [
    "def voteKnn(xtrain, ytrain, nKnn, newData):  # your work here\n",
    "    d = []\n",
    "    for px in xtrain:\n",
    "        d.append(np.sqrt(np.power(px[0] - newData[0], 2) + np.power(px[1] - newData[1], 2)))\n",
    "\n",
    "    r = np.argsort(d)\n",
    "\n",
    "    # nKNN smallest distances indices\n",
    "    nei1 = r[0:nKnn]\n",
    "\n",
    "    # nKNN closest data\n",
    "    Xn1 = []\n",
    "    yn1 = []\n",
    "    for j in nei1:\n",
    "        Xn1.append(xtrain[j])\n",
    "        yn1.append(ytrain[j])\n",
    "\n",
    "    cl, co= np.unique(yn1, return_counts=True)\n",
    "    nbOfMC = np.count_nonzero(co == np.max(co))  # Permet de récupérer le nombre de classe qui ont le nombre d'occurrence max du tableau\n",
    "    if nbOfMC > 1:\n",
    "        classe1 = nbClasses\n",
    "    else:\n",
    "        maxOccIndex1 = np.argmax(co)  # renvoie l'indice de l'occurrence la plus élevée\n",
    "        classe1 = cl[maxOccIndex1]  # on récupère la classe correspondant à cette occurrence la plus élevée, autrement dit on récupère la classe ayant le nombre d'occurrence le plus élevé, grâce à leur indice identique (dans les tableaux classes et counts, une classe à un indice précis va trouver son occurrence au même indice dans le tableau counts)\n",
    "        return classe1\n"
   ]
  },
  {
   "cell_type": "markdown",
   "metadata": {},
   "source": [
    "**Question 6bis:** Test this function on the previous new point."
   ]
  },
  {
   "cell_type": "code",
   "execution_count": 57,
   "metadata": {
    "ExecuteTime": {
     "end_time": "2023-02-23T14:28:34.268899Z",
     "start_time": "2023-02-23T14:28:34.265098Z"
    }
   },
   "outputs": [
    {
     "name": "stdout",
     "output_type": "stream",
     "text": [
      "0\n"
     ]
    }
   ],
   "source": [
    "# your work here\n",
    "print(voteKnn(Xtrain, yTrain, nKNN, newX))"
   ]
  },
  {
   "cell_type": "markdown",
   "metadata": {},
   "source": [
    "**Question 7:** Compute the class of all the points on a higher resolution grid and plot the result (new points will be plotted with a marker '.'). Do you agree with the results?"
   ]
  },
  {
   "cell_type": "code",
   "execution_count": 239,
   "metadata": {
    "ExecuteTime": {
     "end_time": "2023-02-23T21:00:50.366626Z",
     "start_time": "2023-02-23T21:00:50.064010Z"
    },
    "scrolled": false
   },
   "outputs": [
    {
     "name": "stdout",
     "output_type": "stream",
     "text": [
      "(378, 2)\n",
      "[0 0 0 0 0 0 0 0 0 0 0 0 0 0 0 0 0 0 0 0 0 0 0 0 0 0 0 0 0 0 0 0 0 0 0 0 0\n",
      " 0 0 0 0 0 0 0 0 0 0 0 0 0 0 0 0 0 0 0 0 0 0 0 0 0 0 0 0 0 0 0 0 0 0 0 0 0\n",
      " 0 0 0 0 0 0 0 0 0 0 0 0 0 0 0 0 0 0 0 0 0 0 0 0 0 0 0 0 0 0 0 0 0 0 0 2 2\n",
      " 2 2 0 2 2 2 2 0 2 2 2 2 0 0 0 2 2 2 2 2 0 2 2 2 2 0 2 2 2 2 2 2 0 2 2 2 2\n",
      " 2 1 2 2 2 2 1 2 2 2 2 2 2 1 1 2 2 2 2 1 2 2 2 2 1 2 2 2 2 1 1 1 1 1 1 1 1\n",
      " 1 1 1 1 1 1 1 1 1 1 1 1 1 1 1 1 1 1 1 1 1 1 1 1 1 1 1 1 1 1 1 1 1 1 1 1 1\n",
      " 1 1 1 1 1 1 1 1 1 1 1 1 1 1 1 1 1 1 1 1 1 1 1 1 1 1 1 1 1 1 1 1 1 1 1 1 1\n",
      " 1 1 1 1 1 1 1 1 1 1 1 1 1 1 1 1 1 1 1 1 1 1 1 1 1 1 1 1 1 1 1 1 1 1 1 1 1\n",
      " 1 1 1 1 1 1 1 1 1 1 1 1 1 1 1 1 1 1 1 1 1 1 1 1 1 1 1 1 1 1 1 1 1 1 1 1 1\n",
      " 1 1 1 1 1 1 1 1 1 1 1 1 1 1 1 1 1 1 1 1 1 1 1 1 1 1 1 1 1 1 1 1 1 1 1 1 1\n",
      " 1 1 1 1 1 1 1 1]\n"
     ]
    },
    {
     "data": {
      "image/png": "[encoded data removed]",
      "text/plain": [
       "<Figure size 432x288 with 1 Axes>"
      ]
     },
     "metadata": {
      "needs_background": "light"
     },
     "output_type": "display_data"
    }
   ],
   "source": [
    "xTest=np.mgrid[0:4.2:0.2, 0:3.6:0.2].reshape(2,-1).T\n",
    "print(xTest.shape)\n",
    "\n",
    "thetitle = str(nKNN)+'-NN'\n",
    "plt.title(thetitle)\n",
    "\n",
    "# your work here"
   ]
  },
  {
   "cell_type": "markdown",
   "metadata": {
    "heading_collapsed": true
   },
   "source": [
    "### more complex synthetic data"
   ]
  },
  {
   "cell_type": "markdown",
   "metadata": {
    "hidden": true
   },
   "source": [
    "In this part, you will load another dataset. You first need to download this file: http://www.i3s.unice.fr/~lingrand/si3/datasetRandom.pickle and then run the next cell."
   ]
  },
  {
   "cell_type": "code",
   "execution_count": 43,
   "metadata": {
    "ExecuteTime": {
     "end_time": "2023-02-23T09:51:20.695385Z",
     "start_time": "2023-02-23T09:51:20.687960Z"
    },
    "hidden": true
   },
   "outputs": [],
   "source": [
    "with open('datasetRandom.pickle', 'rb') as input:\n",
    "    Xd, yd = pickle.load(input)\n"
   ]
  },
  {
   "cell_type": "markdown",
   "metadata": {
    "hidden": true
   },
   "source": [
    "**Question 8:** Plot the dataset."
   ]
  },
  {
   "cell_type": "code",
   "execution_count": 227,
   "metadata": {
    "ExecuteTime": {
     "end_time": "2023-02-23T14:55:05.108330Z",
     "start_time": "2023-02-23T14:55:04.925511Z"
    },
    "hidden": true
   },
   "outputs": [
    {
     "data": {
      "image/png": "[encoded data removed]",
      "text/plain": [
       "<Figure size 432x288 with 1 Axes>"
      ]
     },
     "metadata": {
      "needs_background": "light"
     },
     "output_type": "display_data"
    }
   ],
   "source": [
    "# your work here"
   ]
  },
  {
   "cell_type": "code",
   "execution_count": 216,
   "metadata": {
    "ExecuteTime": {
     "end_time": "2023-02-23T14:47:18.145336Z",
     "start_time": "2023-02-23T14:47:18.140001Z"
    },
    "hidden": true
   },
   "outputs": [],
   "source": [
    "# use the first 60% for the training and the last 40% for the test\n",
    "Xtrain = Xd[:60]\n",
    "yTrain = yd[:60]\n",
    "Xtest = Xd[60:]\n",
    "yTest = yd[60:]"
   ]
  },
  {
   "cell_type": "markdown",
   "metadata": {
    "hidden": true
   },
   "source": [
    "**Question 9:** Compute the label of the test set from the values of the training set. Plot the training set using round markers with black edge and plot the testing set without the black edge and using the predicted colors. If true class (yTest) and the predicted class do not match, add a red edge."
   ]
  },
  {
   "cell_type": "code",
   "execution_count": 228,
   "metadata": {
    "ExecuteTime": {
     "end_time": "2023-02-23T14:58:33.459916Z",
     "start_time": "2023-02-23T14:58:33.258656Z"
    },
    "hidden": true,
    "scrolled": true
   },
   "outputs": [
    {
     "data": {
      "image/png": "[encoded data removed]",
      "text/plain": [
       "<Figure size 432x288 with 1 Axes>"
      ]
     },
     "metadata": {
      "needs_background": "light"
     },
     "output_type": "display_data"
    }
   ],
   "source": [
    "# your work here"
   ]
  },
  {
   "cell_type": "markdown",
   "metadata": {
    "hidden": true
   },
   "source": [
    "**Question 10:**: Could you build a numerical metric for the classification evaluation?"
   ]
  },
  {
   "cell_type": "code",
   "execution_count": null,
   "metadata": {
    "hidden": true
   },
   "outputs": [],
   "source": [
    "# your work"
   ]
  },
  {
   "cell_type": "markdown",
   "metadata": {
    "heading_collapsed": true
   },
   "source": [
    "## multi-class kNN (dimension 2)"
   ]
  },
  {
   "cell_type": "markdown",
   "metadata": {
    "hidden": true
   },
   "source": [
    "**Question 11:** Same questions using more than 2 classes. Be careful of the tables of colors."
   ]
  },
  {
   "cell_type": "code",
   "execution_count": null,
   "metadata": {
    "hidden": true
   },
   "outputs": [],
   "source": [
    "# your work"
   ]
  },
  {
   "cell_type": "markdown",
   "metadata": {
    "heading_collapsed": true
   },
   "source": [
    "## multi-class kNN in any dimension (>2)"
   ]
  },
  {
   "cell_type": "markdown",
   "metadata": {
    "hidden": true
   },
   "source": [
    "The difficulty with this part is that you can no long plot the data ..."
   ]
  },
  {
   "cell_type": "markdown",
   "metadata": {
    "hidden": true
   },
   "source": [
    "**Question 12:** Same questions (except plottings) using more than 2 dimensions."
   ]
  },
  {
   "cell_type": "code",
   "execution_count": null,
   "metadata": {
    "hidden": true
   },
   "outputs": [],
   "source": [
    "# your work"
   ]
  },
  {
   "cell_type": "markdown",
   "metadata": {
    "ExecuteTime": {
     "end_time": "2023-02-23T21:11:17.616693Z",
     "start_time": "2023-02-23T21:11:17.614868Z"
    },
    "heading_collapsed": true
   },
   "source": [
    "## kdTree"
   ]
  },
  {
   "cell_type": "markdown",
   "metadata": {
    "ExecuteTime": {
     "end_time": "2023-02-23T21:12:03.661849Z",
     "start_time": "2023-02-23T21:12:03.658267Z"
    },
    "hidden": true
   },
   "source": [
    "If you reach this part, you are skilled enough to also implement the kd-tree! Start with 2d data."
   ]
  },
  {
   "cell_type": "code",
   "execution_count": null,
   "metadata": {
    "hidden": true
   },
   "outputs": [],
   "source": []
  }
 ],
 "metadata": {
  "hide_input": false,
  "kernelspec": {
   "display_name": "Python 3",
   "language": "python",
   "name": "python3"
  },
  "language_info": {
   "codemirror_mode": {
    "name": "ipython",
    "version": 3
   },
   "file_extension": ".py",
   "mimetype": "text/x-python",
   "name": "python",
   "nbconvert_exporter": "python",
   "pygments_lexer": "ipython3",
   "version": "3.8.10"
  },
  "latex_envs": {
   "LaTeX_envs_menu_present": true,
   "autoclose": false,
   "autocomplete": true,
   "bibliofile": "biblio.bib",
   "cite_by": "apalike",
   "current_citInitial": 1,
   "eqLabelWithNumbers": true,
   "eqNumInitial": 1,
   "hotkeys": {
    "equation": "Ctrl-E",
    "itemize": "Ctrl-I"
   },
   "labels_anchors": false,
   "latex_user_defs": false,
   "report_style_numbering": false,
   "user_envs_cfg": false
  },
  "varInspector": {
   "cols": {
    "lenName": 16,
    "lenType": 16,
    "lenVar": 40
   },
   "kernels_config": {
    "python": {
     "delete_cmd_postfix": "",
     "delete_cmd_prefix": "del ",
     "library": "var_list.py",
     "varRefreshCmd": "print(var_dic_list())"
    },
    "r": {
     "delete_cmd_postfix": ") ",
     "delete_cmd_prefix": "rm(",
     "library": "var_list.r",
     "varRefreshCmd": "cat(var_dic_list()) "
    }
   },
   "types_to_exclude": [
    "module",
    "function",
    "builtin_function_or_method",
    "instance",
    "_Feature"
   ],
   "window_display": false
  }
 },
 "nbformat": 4,
 "nbformat_minor": 4
}
